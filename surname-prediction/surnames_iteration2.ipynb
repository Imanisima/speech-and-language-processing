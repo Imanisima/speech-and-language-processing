{
 "cells": [
  {
   "cell_type": "markdown",
   "metadata": {},
   "source": [
    "## Introduction to Prediction using Surnames Analysis"
   ]
  },
  {
   "cell_type": "markdown",
   "metadata": {},
   "source": [
    "---\n",
    "### Hypothesis\n",
    "---\n",
    "\n",
    "To relate a name to nationality, check for the most common letter combinations/pronounciations within a specific language that makes it unique.\n",
    "\n",
    "In this iteration we are going to:\n",
    "* use naive bayes and logistic regression\n",
    "* compare accuracy, recall, and precision for classifying Japanese names.\n",
    "\n",
    "------\n"
   ]
  },
  {
   "cell_type": "code",
   "execution_count": 1,
   "metadata": {},
   "outputs": [],
   "source": [
    "import pandas as pd\n",
    "import numpy as np"
   ]
  },
  {
   "cell_type": "code",
   "execution_count": 2,
   "metadata": {},
   "outputs": [],
   "source": [
    "from sklearn.metrics import accuracy_score\n",
    "from sklearn.metrics import precision_score, recall_score\n",
    "from sklearn.naive_bayes import MultinomialNB # Multi Naive Bayes with discrete values\n",
    "from sklearn.feature_extraction.text import CountVectorizer # tokenize texts/build vocab\n",
    "from sklearn.model_selection import train_test_split\n",
    "from sklearn.metrics import accuracy_score"
   ]
  },
  {
   "cell_type": "markdown",
   "metadata": {},
   "source": [
    "---\n",
    "### Let's perform some EDA\n",
    "\n",
    "---"
   ]
  },
  {
   "cell_type": "code",
   "execution_count": 3,
   "metadata": {},
   "outputs": [
    {
     "data": {
      "text/plain": [
       "(3003, 2)"
      ]
     },
     "execution_count": 3,
     "metadata": {},
     "output_type": "execute_result"
    }
   ],
   "source": [
    "# read the csv file into data frame.\n",
    "surname_csv = \"data_set/surnames-dev.csv\"\n",
    "\n",
    "surname_df = pd.read_csv(surname_csv, index_col = None)\n",
    "\n",
    "surname_df.shape"
   ]
  },
  {
   "cell_type": "code",
   "execution_count": 4,
   "metadata": {},
   "outputs": [
    {
     "data": {
      "text/plain": [
       "Index(['Unnamed: 0', 'Unnamed: 1'], dtype='object')"
      ]
     },
     "execution_count": 4,
     "metadata": {},
     "output_type": "execute_result"
    }
   ],
   "source": [
    "# check columns\n",
    "surname_df.columns"
   ]
  },
  {
   "cell_type": "code",
   "execution_count": 5,
   "metadata": {},
   "outputs": [
    {
     "data": {
      "text/html": [
       "<div>\n",
       "<style scoped>\n",
       "    .dataframe tbody tr th:only-of-type {\n",
       "        vertical-align: middle;\n",
       "    }\n",
       "\n",
       "    .dataframe tbody tr th {\n",
       "        vertical-align: top;\n",
       "    }\n",
       "\n",
       "    .dataframe thead th {\n",
       "        text-align: right;\n",
       "    }\n",
       "</style>\n",
       "<table border=\"1\" class=\"dataframe\">\n",
       "  <thead>\n",
       "    <tr style=\"text-align: right;\">\n",
       "      <th></th>\n",
       "      <th>Unnamed: 0</th>\n",
       "      <th>Unnamed: 1</th>\n",
       "    </tr>\n",
       "  </thead>\n",
       "  <tbody>\n",
       "    <tr>\n",
       "      <td>0</td>\n",
       "      <td>Fakhoury</td>\n",
       "      <td>Arabic</td>\n",
       "    </tr>\n",
       "    <tr>\n",
       "      <td>1</td>\n",
       "      <td>Toma</td>\n",
       "      <td>Arabic</td>\n",
       "    </tr>\n",
       "    <tr>\n",
       "      <td>2</td>\n",
       "      <td>Koury</td>\n",
       "      <td>Arabic</td>\n",
       "    </tr>\n",
       "    <tr>\n",
       "      <td>3</td>\n",
       "      <td>Bata</td>\n",
       "      <td>Arabic</td>\n",
       "    </tr>\n",
       "    <tr>\n",
       "      <td>4</td>\n",
       "      <td>Samaha</td>\n",
       "      <td>Arabic</td>\n",
       "    </tr>\n",
       "  </tbody>\n",
       "</table>\n",
       "</div>"
      ],
      "text/plain": [
       "  Unnamed: 0 Unnamed: 1\n",
       "0   Fakhoury     Arabic\n",
       "1       Toma     Arabic\n",
       "2      Koury     Arabic\n",
       "3       Bata     Arabic\n",
       "4     Samaha     Arabic"
      ]
     },
     "execution_count": 5,
     "metadata": {},
     "output_type": "execute_result"
    }
   ],
   "source": [
    "# a glimpse at the data\n",
    "surname_df.head()"
   ]
  },
  {
   "cell_type": "code",
   "execution_count": 6,
   "metadata": {},
   "outputs": [],
   "source": [
    "# rename the columns\n",
    "surname_df.rename(columns = {'Unnamed: 0':'surname', 'Unnamed: 1':'nationality'}, inplace = True)"
   ]
  },
  {
   "cell_type": "code",
   "execution_count": 7,
   "metadata": {},
   "outputs": [
    {
     "data": {
      "text/html": [
       "<div>\n",
       "<style scoped>\n",
       "    .dataframe tbody tr th:only-of-type {\n",
       "        vertical-align: middle;\n",
       "    }\n",
       "\n",
       "    .dataframe tbody tr th {\n",
       "        vertical-align: top;\n",
       "    }\n",
       "\n",
       "    .dataframe thead th {\n",
       "        text-align: right;\n",
       "    }\n",
       "</style>\n",
       "<table border=\"1\" class=\"dataframe\">\n",
       "  <thead>\n",
       "    <tr style=\"text-align: right;\">\n",
       "      <th></th>\n",
       "      <th>surname</th>\n",
       "      <th>nationality</th>\n",
       "    </tr>\n",
       "  </thead>\n",
       "  <tbody>\n",
       "    <tr>\n",
       "      <td>0</td>\n",
       "      <td>Fakhoury</td>\n",
       "      <td>Arabic</td>\n",
       "    </tr>\n",
       "    <tr>\n",
       "      <td>1</td>\n",
       "      <td>Toma</td>\n",
       "      <td>Arabic</td>\n",
       "    </tr>\n",
       "    <tr>\n",
       "      <td>2</td>\n",
       "      <td>Koury</td>\n",
       "      <td>Arabic</td>\n",
       "    </tr>\n",
       "    <tr>\n",
       "      <td>3</td>\n",
       "      <td>Bata</td>\n",
       "      <td>Arabic</td>\n",
       "    </tr>\n",
       "    <tr>\n",
       "      <td>4</td>\n",
       "      <td>Samaha</td>\n",
       "      <td>Arabic</td>\n",
       "    </tr>\n",
       "  </tbody>\n",
       "</table>\n",
       "</div>"
      ],
      "text/plain": [
       "    surname nationality\n",
       "0  Fakhoury      Arabic\n",
       "1      Toma      Arabic\n",
       "2     Koury      Arabic\n",
       "3      Bata      Arabic\n",
       "4    Samaha      Arabic"
      ]
     },
     "execution_count": 7,
     "metadata": {},
     "output_type": "execute_result"
    }
   ],
   "source": [
    "surname_df.head()"
   ]
  },
  {
   "cell_type": "code",
   "execution_count": 8,
   "metadata": {},
   "outputs": [
    {
     "data": {
      "text/plain": [
       "array(['Arabic', 'Chinese', 'Czech', 'Dutch', 'English', 'French',\n",
       "       'German', 'Greek', 'Irish', 'Italian', 'Japanese', 'Korean',\n",
       "       'Polish', 'Portuguese', 'Russian', 'Scottish', 'Spanish',\n",
       "       'Vietnamese'], dtype=object)"
      ]
     },
     "execution_count": 8,
     "metadata": {},
     "output_type": "execute_result"
    }
   ],
   "source": [
    "# types of nationalities\n",
    "surname_df.nationality.unique()"
   ]
  },
  {
   "cell_type": "code",
   "execution_count": 9,
   "metadata": {},
   "outputs": [
    {
     "data": {
      "text/plain": [
       "18"
      ]
     },
     "execution_count": 9,
     "metadata": {},
     "output_type": "execute_result"
    }
   ],
   "source": [
    "# there are 18 unique nationalities in the dataset\n",
    "len(surname_df.nationality.unique())"
   ]
  },
  {
   "cell_type": "code",
   "execution_count": 10,
   "metadata": {},
   "outputs": [
    {
     "data": {
      "text/plain": [
       "nationality\n",
       "Arabic         300\n",
       "Chinese         40\n",
       "Czech           77\n",
       "Dutch           44\n",
       "English        550\n",
       "French          41\n",
       "German         108\n",
       "Greek           30\n",
       "Irish           34\n",
       "Italian        106\n",
       "Japanese       148\n",
       "Korean          14\n",
       "Polish          20\n",
       "Portuguese      11\n",
       "Russian       1411\n",
       "Scottish        15\n",
       "Spanish         44\n",
       "Vietnamese      10\n",
       "Name: surname, dtype: int64"
      ]
     },
     "execution_count": 10,
     "metadata": {},
     "output_type": "execute_result"
    }
   ],
   "source": [
    "# Number of names per nationality\n",
    "surname_df.groupby(\"nationality\")[\"surname\"].size()"
   ]
  },
  {
   "cell_type": "markdown",
   "metadata": {},
   "source": [
    "#### Features Exploration"
   ]
  },
  {
   "cell_type": "code",
   "execution_count": 11,
   "metadata": {},
   "outputs": [],
   "source": [
    "features = surname_df[\"surname\"] # features (x) needed to predict nationatlity\n",
    "target = surname_df[\"nationality\"] # what we are predicting (y)"
   ]
  },
  {
   "cell_type": "markdown",
   "metadata": {},
   "source": [
    "---\n",
    "### Train/Test Data\n",
    "\n",
    "---\n",
    "To make the data a little more accurate in it's predictions, we are going to split the surnames into train (80%) and test (20%) datasets."
   ]
  },
  {
   "cell_type": "code",
   "execution_count": 12,
   "metadata": {},
   "outputs": [],
   "source": [
    "# vectorize features\n",
    "cv = CountVectorizer()\n",
    "X = cv.fit_transform(features)"
   ]
  },
  {
   "cell_type": "code",
   "execution_count": 13,
   "metadata": {
    "collapsed": true,
    "jupyter": {
     "outputs_hidden": true
    }
   },
   "outputs": [
    {
     "data": {
      "text/plain": [
       "['ababko',\n",
       " 'abadi',\n",
       " 'abakumtsev',\n",
       " 'abalakin',\n",
       " 'abalikhin',\n",
       " 'abalmasoff',\n",
       " 'abana',\n",
       " 'abandonato',\n",
       " 'abascal',\n",
       " 'abasheev',\n",
       " 'abashin',\n",
       " 'abbatangelo',\n",
       " 'abboud',\n",
       " 'abdrakhmanoff',\n",
       " 'abdrazakov',\n",
       " 'abdulbasirov',\n",
       " 'abdulgapuroff',\n",
       " 'abdulladjanov',\n",
       " 'abdulladzhanoff',\n",
       " 'abdulrahmanov',\n",
       " 'abdurahmanoff',\n",
       " 'abdurakhmanov',\n",
       " 'abel',\n",
       " 'abelman',\n",
       " 'abelmazov',\n",
       " 'abeltsev',\n",
       " 'aberquero',\n",
       " 'abertasov',\n",
       " 'abih',\n",
       " 'abikh',\n",
       " 'ablesimoff',\n",
       " 'abletsov',\n",
       " 'ableuhoff',\n",
       " 'ableukhoff',\n",
       " 'ablov',\n",
       " 'ablyakimoff',\n",
       " 'aboev',\n",
       " 'aboimov',\n",
       " 'abolin',\n",
       " 'abragamson',\n",
       " 'abrahams',\n",
       " 'abrameitsev',\n",
       " 'abramov',\n",
       " 'abramovitch',\n",
       " 'abramovsky',\n",
       " 'abraroff',\n",
       " 'abreu',\n",
       " 'abrikosov',\n",
       " 'absalyamov',\n",
       " 'abuhoff',\n",
       " 'abulhanoff',\n",
       " 'abyshev',\n",
       " 'abyzgiddin',\n",
       " 'abzyaparoff',\n",
       " 'acconci',\n",
       " 'acconcio',\n",
       " 'achterberg',\n",
       " 'ackermann',\n",
       " 'ackroyd',\n",
       " 'acquati',\n",
       " 'acton',\n",
       " 'adabashian',\n",
       " 'adamenko',\n",
       " 'adamidis',\n",
       " 'adamoff',\n",
       " 'adamson',\n",
       " 'adarchenko',\n",
       " 'addams',\n",
       " 'addis',\n",
       " 'adelfinski',\n",
       " 'adelkhanoff',\n",
       " 'adelung',\n",
       " 'ader',\n",
       " 'adilov',\n",
       " 'adkins',\n",
       " 'adlam',\n",
       " 'admakin',\n",
       " 'adomaitis',\n",
       " 'adoniev',\n",
       " 'adov',\n",
       " 'adriyanoff',\n",
       " 'adsett',\n",
       " 'agababov',\n",
       " 'agababyan',\n",
       " 'agadjanyan',\n",
       " 'agalakoff',\n",
       " 'agamoff',\n",
       " 'aganov',\n",
       " 'agapotchkin',\n",
       " 'agatov',\n",
       " 'agatyev',\n",
       " 'agayan',\n",
       " 'ageevets',\n",
       " 'ageitchev',\n",
       " 'agelakos',\n",
       " 'aggio',\n",
       " 'agibalov',\n",
       " 'agishev',\n",
       " 'agranovich',\n",
       " 'agratin',\n",
       " 'agulian',\n",
       " 'agzamov',\n",
       " 'ainley',\n",
       " 'airaldi',\n",
       " 'ajello',\n",
       " 'ajiganoff',\n",
       " 'ajinoff',\n",
       " 'akimoto',\n",
       " 'akker',\n",
       " 'alanson',\n",
       " 'albani',\n",
       " 'albero',\n",
       " 'albertini',\n",
       " 'albrecht',\n",
       " 'albricci',\n",
       " 'albuquerque',\n",
       " 'alchubaev',\n",
       " 'alderson',\n",
       " 'alduino',\n",
       " 'aleshite',\n",
       " 'alexandropoulos',\n",
       " 'alford',\n",
       " 'algar',\n",
       " 'alhimov',\n",
       " 'aliberti',\n",
       " 'alinari',\n",
       " 'alkvist',\n",
       " 'alladee',\n",
       " 'allcott',\n",
       " 'allegro',\n",
       " 'aller',\n",
       " 'allsop',\n",
       " 'almuhametov',\n",
       " 'almut',\n",
       " 'aloia',\n",
       " 'alperovich',\n",
       " 'altoviti',\n",
       " 'amantea',\n",
       " 'ambrosio',\n",
       " 'amelsvoort',\n",
       " 'amoretto',\n",
       " 'andel',\n",
       " 'anderson',\n",
       " 'andreenko',\n",
       " 'andreichik',\n",
       " 'androhanov',\n",
       " 'andronikov',\n",
       " 'andronnikov',\n",
       " 'andrusiw',\n",
       " 'andrusov',\n",
       " 'andruzsky',\n",
       " 'andryuhin',\n",
       " 'andryukov',\n",
       " 'andryunin',\n",
       " 'anedchenko',\n",
       " 'anikanov',\n",
       " 'animitsa',\n",
       " 'anisikhin',\n",
       " 'anisovets',\n",
       " 'annan',\n",
       " 'anoskov',\n",
       " 'anscombe',\n",
       " 'antar',\n",
       " 'antonelli',\n",
       " 'antonopoulos',\n",
       " 'antonowitz',\n",
       " 'antonyuk',\n",
       " 'antoun',\n",
       " 'aoki',\n",
       " 'apeldoorn',\n",
       " 'appleby',\n",
       " 'aqua',\n",
       " 'araki',\n",
       " 'araya',\n",
       " 'araãºjo',\n",
       " 'arcy',\n",
       " 'ardern',\n",
       " 'arena',\n",
       " 'arian',\n",
       " 'arita',\n",
       " 'aritza',\n",
       " 'arlotti',\n",
       " 'armbruster',\n",
       " 'arnold',\n",
       " 'arreola',\n",
       " 'arrowsmith',\n",
       " 'artemev',\n",
       " 'arthur',\n",
       " 'artseulov',\n",
       " 'asai',\n",
       " 'asanuma',\n",
       " 'asfour',\n",
       " 'asghar',\n",
       " 'ashcroft',\n",
       " 'ashurst',\n",
       " 'asker',\n",
       " 'assaf',\n",
       " 'astle',\n",
       " 'astrahantsev',\n",
       " 'astrov',\n",
       " 'asuhara',\n",
       " 'aswad',\n",
       " 'atabekov',\n",
       " 'atabiev',\n",
       " 'atanov',\n",
       " 'atiyeh',\n",
       " 'attia',\n",
       " 'atyasov',\n",
       " 'auer',\n",
       " 'augustov',\n",
       " 'aurov',\n",
       " 'avakyan',\n",
       " 'avalishvili',\n",
       " 'avdiev',\n",
       " 'avdonin',\n",
       " 'avdulov',\n",
       " 'avelichev',\n",
       " 'averyanov',\n",
       " 'aves',\n",
       " 'avetisov',\n",
       " 'avhadiev',\n",
       " 'avhimovich',\n",
       " 'avilkin',\n",
       " 'avkhimovich',\n",
       " 'avksentievski',\n",
       " 'avramchik',\n",
       " 'avrutsky',\n",
       " 'avsenev',\n",
       " 'avtorkhanov',\n",
       " 'awad',\n",
       " 'awaeff',\n",
       " 'awagimoff',\n",
       " 'awaliani',\n",
       " 'awalishwili',\n",
       " 'awanesov',\n",
       " 'awdonin',\n",
       " 'awduewski',\n",
       " 'awduloff',\n",
       " 'awen',\n",
       " 'awerin',\n",
       " 'awerkowitch',\n",
       " 'awilkin',\n",
       " 'awksentiewsky',\n",
       " 'awramchik',\n",
       " 'awroff',\n",
       " 'awrorin',\n",
       " 'awrutsky',\n",
       " 'awtaeff',\n",
       " 'awtorkhanoff',\n",
       " 'awtukhoff',\n",
       " 'awturkhanoff',\n",
       " 'awwakumoff',\n",
       " 'ayabito',\n",
       " 'ayley',\n",
       " 'ayres',\n",
       " 'azarola',\n",
       " 'azhinoff',\n",
       " 'aziz',\n",
       " 'ba',\n",
       " 'baasch',\n",
       " 'baba',\n",
       " 'babahanov',\n",
       " 'babakulov',\n",
       " 'babanoff',\n",
       " 'babanov',\n",
       " 'babarykin',\n",
       " 'babilyas',\n",
       " 'babineaux',\n",
       " 'babosov',\n",
       " 'babukhin',\n",
       " 'baburov',\n",
       " 'babushkin',\n",
       " 'babyuk',\n",
       " 'bachilo',\n",
       " 'bachyanskas',\n",
       " 'bacon',\n",
       " 'badamshin',\n",
       " 'badanoff',\n",
       " 'badanov',\n",
       " 'badelin',\n",
       " 'bader',\n",
       " 'baderskoff',\n",
       " 'badikov',\n",
       " 'badoff',\n",
       " 'badyaev',\n",
       " 'badyagin',\n",
       " 'badykshanov',\n",
       " 'baer',\n",
       " 'baewski',\n",
       " 'baewsky',\n",
       " 'bagachev',\n",
       " 'bagalei',\n",
       " 'bagaturiya',\n",
       " 'bagdasaroff',\n",
       " 'baggovut',\n",
       " 'bagnoli',\n",
       " 'bagretsoff',\n",
       " 'bahar',\n",
       " 'bahchivandji',\n",
       " 'bahlaev',\n",
       " 'bahmatoff',\n",
       " 'bahmetiev',\n",
       " 'bahmutov',\n",
       " 'bahtiaroff',\n",
       " 'bahtiyaroff',\n",
       " 'bahtoff',\n",
       " 'baibikov',\n",
       " 'baidavletoff',\n",
       " 'baidzhanov',\n",
       " 'baier',\n",
       " 'baiguzov',\n",
       " 'baikalov',\n",
       " 'baikowsky',\n",
       " 'bair',\n",
       " 'bairashewski',\n",
       " 'baitchikoff',\n",
       " 'baitoff',\n",
       " 'bakaleiko',\n",
       " 'bakalinsky',\n",
       " 'bakalov',\n",
       " 'bakastoff',\n",
       " 'bakhmetev',\n",
       " 'bakhmutsky',\n",
       " 'bakhorin',\n",
       " 'bakhovkin',\n",
       " 'bakhtiarov',\n",
       " 'bakhurin',\n",
       " 'bakhusov',\n",
       " 'baklykov',\n",
       " 'bakoni',\n",
       " 'bakradze',\n",
       " 'bakshansky',\n",
       " 'baksheev',\n",
       " 'bakshtanovski',\n",
       " 'bakshtanowsky',\n",
       " 'bakunts',\n",
       " 'bakurinsky',\n",
       " 'bakusoff',\n",
       " 'balabai',\n",
       " 'balabanov',\n",
       " 'balahonsky',\n",
       " 'balahontsev',\n",
       " 'balakhonoff',\n",
       " 'balakhonov',\n",
       " 'balakhonsky',\n",
       " 'balakleevsky',\n",
       " 'balanovski',\n",
       " 'balanovsky',\n",
       " 'balanowsky',\n",
       " 'balawensky',\n",
       " 'ball',\n",
       " 'ballalatak',\n",
       " 'bambach',\n",
       " 'bancroft',\n",
       " 'banh',\n",
       " 'banner',\n",
       " 'bao',\n",
       " 'barabanov',\n",
       " 'barabanschikov',\n",
       " 'barakov',\n",
       " 'baranetsky',\n",
       " 'baron',\n",
       " 'barone',\n",
       " 'bartalotti',\n",
       " 'bartlett',\n",
       " 'bartosz',\n",
       " 'basara',\n",
       " 'bata',\n",
       " 'batchev',\n",
       " 'bateman',\n",
       " 'batskaev',\n",
       " 'batsman',\n",
       " 'batsura',\n",
       " 'batukov',\n",
       " 'baturkin',\n",
       " 'bauer',\n",
       " 'baumhauer',\n",
       " 'bautin',\n",
       " 'bawvykin',\n",
       " 'bazaev',\n",
       " 'bazanov',\n",
       " 'bazarevich',\n",
       " 'bazzi',\n",
       " 'becker',\n",
       " 'bei',\n",
       " 'beider',\n",
       " 'beilin',\n",
       " 'bekh',\n",
       " 'bekhtenev',\n",
       " 'bekkarevich',\n",
       " 'bekker',\n",
       " 'bekleshev',\n",
       " 'beldy',\n",
       " 'belgov',\n",
       " 'belikin',\n",
       " 'belikovich',\n",
       " 'belimov',\n",
       " 'belin',\n",
       " 'belkov',\n",
       " 'bellandi',\n",
       " 'bellandini',\n",
       " 'bello',\n",
       " 'belloni',\n",
       " 'belnikov',\n",
       " 'belogubov',\n",
       " 'beloschin',\n",
       " 'belotserkovets',\n",
       " 'belovol',\n",
       " 'belshtein',\n",
       " 'beltyukov',\n",
       " 'beltz',\n",
       " 'belyavin',\n",
       " 'bennett',\n",
       " 'berger',\n",
       " 'bernard',\n",
       " 'bestolov',\n",
       " 'bestujev',\n",
       " 'bestuzhev',\n",
       " 'betlach',\n",
       " 'bezrukih',\n",
       " 'bezrukikh',\n",
       " 'bian',\n",
       " 'bianchi',\n",
       " 'bickley',\n",
       " 'biddle',\n",
       " 'bieber',\n",
       " 'bienko',\n",
       " 'biggs',\n",
       " 'bilibin',\n",
       " 'bilinsky',\n",
       " 'bilyaev',\n",
       " 'biondo',\n",
       " 'bir',\n",
       " 'birnbaum',\n",
       " 'bitar',\n",
       " 'bithell',\n",
       " 'black',\n",
       " 'blackwell',\n",
       " 'blanxart',\n",
       " 'blau',\n",
       " 'blazejovsky',\n",
       " 'blundell',\n",
       " 'blythe',\n",
       " 'bonaventura',\n",
       " 'bone',\n",
       " 'bonnaire',\n",
       " 'botros',\n",
       " 'boulton',\n",
       " 'boutros',\n",
       " 'bowen',\n",
       " 'bower',\n",
       " 'boyce',\n",
       " 'boyd',\n",
       " 'brabbery',\n",
       " 'bradbury',\n",
       " 'bradley',\n",
       " 'braithwaite',\n",
       " 'bramley',\n",
       " 'braun',\n",
       " 'breda',\n",
       " 'breisacher',\n",
       " 'brian',\n",
       " 'broadbent',\n",
       " 'brook',\n",
       " 'brookfield',\n",
       " 'bruce',\n",
       " 'buggenum',\n",
       " 'buhr',\n",
       " 'bulgari',\n",
       " 'bureau',\n",
       " 'buren',\n",
       " 'burland',\n",
       " 'burn',\n",
       " 'burnett',\n",
       " 'burns',\n",
       " 'bursinos',\n",
       " 'busby',\n",
       " 'butler',\n",
       " 'butt',\n",
       " 'button',\n",
       " 'cahill',\n",
       " 'caito',\n",
       " 'calligaris',\n",
       " 'calpis',\n",
       " 'camfrlova',\n",
       " 'campbell',\n",
       " 'capello',\n",
       " 'carbone',\n",
       " 'carnegie',\n",
       " 'carter',\n",
       " 'casales',\n",
       " 'cattaneo',\n",
       " 'cavanagh',\n",
       " 'ceallachan',\n",
       " 'cermak',\n",
       " 'cerv',\n",
       " 'chalmers',\n",
       " 'chalov',\n",
       " 'chalupka',\n",
       " 'chalyh',\n",
       " 'chalyshev',\n",
       " 'cham',\n",
       " 'chao',\n",
       " 'charnolusky',\n",
       " 'charpentier',\n",
       " 'charron',\n",
       " 'chau',\n",
       " 'chauhan',\n",
       " 'chazov',\n",
       " 'chehanov',\n",
       " 'chehlakovsky',\n",
       " 'chekis',\n",
       " 'chekmezov',\n",
       " 'chelmy',\n",
       " 'chepasov',\n",
       " 'chepchyak',\n",
       " 'cheplakov',\n",
       " 'chepurin',\n",
       " 'chepurnov',\n",
       " 'chepygin',\n",
       " 'chernovol',\n",
       " 'chertischev',\n",
       " 'chertorijsky',\n",
       " 'cheung',\n",
       " 'chi',\n",
       " 'chihachev',\n",
       " 'chihanchin',\n",
       " 'chikhanchin',\n",
       " 'chikurov',\n",
       " 'chilar',\n",
       " 'chilvers',\n",
       " 'chkheidze',\n",
       " 'chkhikvadze',\n",
       " 'chou',\n",
       " 'christakos',\n",
       " 'chugainov',\n",
       " 'chuhontsev',\n",
       " 'chukhanov',\n",
       " 'chukhlomsky',\n",
       " 'chukhman',\n",
       " 'chukhnovsky',\n",
       " 'chukhrov',\n",
       " 'churnosov',\n",
       " 'chuvashev',\n",
       " 'chweh',\n",
       " 'clamp',\n",
       " 'coates',\n",
       " 'coelho',\n",
       " 'cohen',\n",
       " 'colbert',\n",
       " 'collinson',\n",
       " 'columbo',\n",
       " 'confortola',\n",
       " 'connell',\n",
       " 'connolly',\n",
       " 'cookson',\n",
       " 'cousineau',\n",
       " 'coward',\n",
       " 'crawford',\n",
       " 'crawley',\n",
       " 'cremaschi',\n",
       " 'crofts',\n",
       " 'crowe',\n",
       " 'cruz',\n",
       " 'cruze',\n",
       " 'cullen',\n",
       " 'curran',\n",
       " 'cutts',\n",
       " 'cuyer',\n",
       " 'dagher',\n",
       " 'dahaev',\n",
       " 'daher',\n",
       " 'dahin',\n",
       " 'dai',\n",
       " 'daishi',\n",
       " 'dale',\n",
       " 'dalzell',\n",
       " 'dan',\n",
       " 'danchuk',\n",
       " 'daniel',\n",
       " 'danilchuk',\n",
       " 'daniltsev',\n",
       " 'danilyak',\n",
       " 'danilyan',\n",
       " 'dantsiger',\n",
       " 'dargevich',\n",
       " 'dargomyjsky',\n",
       " 'darjaev',\n",
       " 'darsky',\n",
       " 'daugherty',\n",
       " 'davenport',\n",
       " 'davidyuk',\n",
       " 'davletov',\n",
       " 'davletyarov',\n",
       " 'davydkin',\n",
       " 'dawkins',\n",
       " 'de',\n",
       " 'debenham',\n",
       " 'deeb',\n",
       " 'dehmel',\n",
       " 'dehtyarev',\n",
       " 'deighton',\n",
       " 'delamarre',\n",
       " 'delaney',\n",
       " 'demeshko',\n",
       " 'denis',\n",
       " 'derkachev',\n",
       " 'dermelev',\n",
       " 'dermody',\n",
       " 'dertynov',\n",
       " 'deryugin',\n",
       " 'deryujinsky',\n",
       " 'derzhavets',\n",
       " 'desai',\n",
       " 'desyatkin',\n",
       " 'detinko',\n",
       " 'deulenko',\n",
       " 'deulin',\n",
       " 'devonport',\n",
       " 'dewar',\n",
       " 'dexter',\n",
       " 'diakogeorgiou',\n",
       " 'diamond',\n",
       " 'didichenko',\n",
       " 'digurov',\n",
       " 'dik',\n",
       " 'dioletis',\n",
       " 'dittmar',\n",
       " 'dizhin',\n",
       " 'djanibekov',\n",
       " 'djemal',\n",
       " 'djemilev',\n",
       " 'djirin',\n",
       " 'dmukhovsky',\n",
       " 'dnishev',\n",
       " 'do',\n",
       " 'dobretsky',\n",
       " 'dobretsov',\n",
       " 'dobridnyuk',\n",
       " 'dobrinsky',\n",
       " 'dobrotvorsky',\n",
       " 'dobrynchenko',\n",
       " 'dodd',\n",
       " 'dodin',\n",
       " 'dogadin',\n",
       " 'dogadkin',\n",
       " 'doherty',\n",
       " 'dolan',\n",
       " 'doljs',\n",
       " 'donald',\n",
       " 'donaldson',\n",
       " 'donati',\n",
       " 'donchak',\n",
       " 'donkin',\n",
       " 'donnelly',\n",
       " 'donoghue',\n",
       " 'donohoe',\n",
       " 'dontsov',\n",
       " 'dora',\n",
       " 'dou',\n",
       " 'dougal',\n",
       " 'dougherty',\n",
       " 'douglas',\n",
       " 'dovgopoly',\n",
       " 'dowling',\n",
       " 'down',\n",
       " 'downton',\n",
       " 'dozorny',\n",
       " 'draper',\n",
       " 'drassal',\n",
       " 'drew',\n",
       " 'drewett',\n",
       " 'dritsas',\n",
       " 'drozdenko',\n",
       " 'drozdetsky',\n",
       " 'dubelir',\n",
       " 'dubitsky',\n",
       " 'dubkoff',\n",
       " 'dubois',\n",
       " 'duchamps',\n",
       " 'dufour',\n",
       " 'duke',\n",
       " 'dundon',\n",
       " 'dunkle',\n",
       " 'dunmore',\n",
       " 'dunn',\n",
       " 'durmanov',\n",
       " 'durmashkin',\n",
       " 'duronov',\n",
       " 'duval',\n",
       " 'dwyer',\n",
       " 'dykes',\n",
       " 'dymond',\n",
       " 'dzhanaev',\n",
       " 'dzhanashiya',\n",
       " 'dzharimov',\n",
       " 'dzhavakhishvili',\n",
       " 'dzheladze',\n",
       " 'dzhelepov',\n",
       " 'dzhezhela',\n",
       " 'dzhumabaev',\n",
       " 'dzhumaev',\n",
       " 'eadie',\n",
       " 'eales',\n",
       " 'eastaugh',\n",
       " 'eastaway',\n",
       " 'ebergard',\n",
       " 'ebsvort',\n",
       " 'eckersall',\n",
       " 'eda',\n",
       " 'edmond',\n",
       " 'edmundson',\n",
       " 'edwick',\n",
       " 'egarmin',\n",
       " 'egides',\n",
       " 'egin',\n",
       " 'egonidis',\n",
       " 'eidelstein',\n",
       " 'eihe',\n",
       " 'eihenvald',\n",
       " 'eihfeld',\n",
       " 'eihmans',\n",
       " 'eikhenvald',\n",
       " 'ekin',\n",
       " 'elanin',\n",
       " 'elbutt',\n",
       " 'elena',\n",
       " 'eley',\n",
       " 'elez',\n",
       " 'elinson',\n",
       " 'elkington',\n",
       " 'elleray',\n",
       " 'elliman',\n",
       " 'elliott',\n",
       " 'ellwood',\n",
       " 'elstone',\n",
       " 'eltis',\n",
       " 'elvins',\n",
       " 'emery',\n",
       " 'emeshin',\n",
       " 'endo',\n",
       " 'endroe',\n",
       " 'engelmeier',\n",
       " 'english',\n",
       " 'enikolopov',\n",
       " 'enman',\n",
       " 'enshin',\n",
       " 'entus',\n",
       " 'entwistle',\n",
       " 'enyagin',\n",
       " 'eoin',\n",
       " 'epsom',\n",
       " 'erizawa',\n",
       " 'eroshevsky',\n",
       " 'eroshin',\n",
       " 'eroshkevich',\n",
       " 'esikov',\n",
       " 'essa',\n",
       " 'essam',\n",
       " 'essop',\n",
       " 'estlick',\n",
       " 'estã',\n",
       " 'evarestov',\n",
       " 'evert',\n",
       " 'evstafiev',\n",
       " 'evstratov',\n",
       " 'exon',\n",
       " 'eyett',\n",
       " 'fabb',\n",
       " 'fabrichnikov',\n",
       " 'fabron',\n",
       " 'fadyuhin',\n",
       " 'fadzaev',\n",
       " 'fairbairn',\n",
       " 'fakhoury',\n",
       " 'falsh',\n",
       " 'faltejsek',\n",
       " 'fan',\n",
       " 'faraldo',\n",
       " 'farnsworth',\n",
       " 'farrell',\n",
       " 'farrer',\n",
       " 'faucheux',\n",
       " 'faust',\n",
       " 'fava',\n",
       " 'favero',\n",
       " 'fazlov',\n",
       " 'fearnley',\n",
       " 'fedchenkov',\n",
       " 'fedotko',\n",
       " 'feld',\n",
       " 'feldt',\n",
       " 'fell',\n",
       " 'fellows',\n",
       " 'ferguson',\n",
       " 'fermi',\n",
       " 'fernandez',\n",
       " 'ferreiro',\n",
       " 'ferro',\n",
       " 'field',\n",
       " 'fielder',\n",
       " 'fifield',\n",
       " 'filipov',\n",
       " 'filipovsky',\n",
       " 'filipowski',\n",
       " 'filippovich',\n",
       " 'finferovy',\n",
       " 'finlay',\n",
       " 'finney',\n",
       " 'finnimore',\n",
       " 'finogeev',\n",
       " 'fionin',\n",
       " 'first',\n",
       " 'firstâ',\n",
       " 'fisik',\n",
       " 'fisk',\n",
       " 'fistal',\n",
       " 'fitton',\n",
       " 'fitzsimmons',\n",
       " 'flack',\n",
       " 'flaherty',\n",
       " 'flanders',\n",
       " 'flores',\n",
       " 'floyd',\n",
       " 'foran',\n",
       " 'foreman',\n",
       " 'forest',\n",
       " 'forman',\n",
       " 'forsh',\n",
       " 'forsythe',\n",
       " 'fotinov',\n",
       " 'foulkes',\n",
       " 'fourakis',\n",
       " 'foxall',\n",
       " 'franco',\n",
       " 'fraser',\n",
       " 'fried',\n",
       " 'friedrich',\n",
       " 'frierdich',\n",
       " 'frolov',\n",
       " 'fromm',\n",
       " 'frost',\n",
       " 'froyanov',\n",
       " 'fuentes',\n",
       " 'fukuoka',\n",
       " 'furlong',\n",
       " 'furnell',\n",
       " 'furniss',\n",
       " 'fuwa',\n",
       " 'fã',\n",
       " 'gaber',\n",
       " 'gabler',\n",
       " 'gachev',\n",
       " 'gaft',\n",
       " 'galdus',\n",
       " 'galetsky',\n",
       " 'galkin',\n",
       " 'gall',\n",
       " 'gallchobhar',\n",
       " 'gallego',\n",
       " 'galloway',\n",
       " 'galochkin',\n",
       " 'ganem',\n",
       " 'ganim',\n",
       " 'garber',\n",
       " 'garofalo',\n",
       " 'garver',\n",
       " 'gasilin',\n",
       " 'gasman',\n",
       " 'gassan',\n",
       " 'gataullin',\n",
       " 'gately',\n",
       " 'gauer',\n",
       " 'gavin',\n",
       " 'gavril',\n",
       " 'gavrilopoulos',\n",
       " 'gayazov',\n",
       " 'gayulsky',\n",
       " 'geftler',\n",
       " 'gensch',\n",
       " 'georgeakopoulos',\n",
       " 'geracimos',\n",
       " 'gerald',\n",
       " 'gerges',\n",
       " 'gerhard',\n",
       " 'gerschcovich',\n",
       " 'gesti',\n",
       " 'getman',\n",
       " 'gets',\n",
       " 'ghanem',\n",
       " 'ghannam',\n",
       " 'gianakopulos',\n",
       " 'giannino',\n",
       " 'gibbon',\n",
       " 'gilbert',\n",
       " 'giles',\n",
       " 'gillam',\n",
       " 'ginty',\n",
       " 'glaister',\n",
       " 'glass',\n",
       " 'glavchev',\n",
       " 'glazaty',\n",
       " 'glebovich',\n",
       " 'gluhih',\n",
       " 'gluhman',\n",
       " 'gluhotko',\n",
       " 'glukhman',\n",
       " 'gluskin',\n",
       " 'gluzman',\n",
       " 'golding',\n",
       " 'golochevsky',\n",
       " 'golofeev',\n",
       " 'goloushin',\n",
       " 'golovachev',\n",
       " 'golovan',\n",
       " 'golovenchenko',\n",
       " 'golovenok',\n",
       " 'gomatos',\n",
       " 'gomolka',\n",
       " 'gonzalez',\n",
       " 'goodall',\n",
       " 'goodson',\n",
       " 'gorbachev',\n",
       " 'gorbman',\n",
       " 'gorbovsky',\n",
       " 'gorecki',\n",
       " 'gorman',\n",
       " 'gorstkin',\n",
       " 'gorsun',\n",
       " 'gott',\n",
       " 'gottschalk',\n",
       " 'gough',\n",
       " 'goulden',\n",
       " 'gourlay',\n",
       " 'govender',\n",
       " 'gower',\n",
       " 'grabski',\n",
       " 'graham',\n",
       " 'grakovich',\n",
       " 'grant',\n",
       " 'greenberg',\n",
       " 'greig',\n",
       " 'gribenkin',\n",
       " 'griggs',\n",
       " 'grigorevsky',\n",
       " 'grigorishin',\n",
       " 'grobivker',\n",
       " 'grodsky',\n",
       " 'gronsky',\n",
       " 'gropyanov',\n",
       " 'groshopf',\n",
       " 'grositsky',\n",
       " 'gross',\n",
       " 'grosse',\n",
       " 'grosser',\n",
       " 'grossman',\n",
       " 'grosul',\n",
       " 'groãÿel',\n",
       " 'grulich',\n",
       " 'grushevenko',\n",
       " 'grushi',\n",
       " 'grygarova',\n",
       " 'gudenko',\n",
       " 'gudkov',\n",
       " 'gudoshin',\n",
       " 'gudtsov',\n",
       " 'gudvan',\n",
       " 'gudz',\n",
       " 'guerra',\n",
       " 'guirguis',\n",
       " 'guketlev',\n",
       " 'gukov',\n",
       " 'gukovsky',\n",
       " 'gulchinsky',\n",
       " 'guliev',\n",
       " 'gulkin',\n",
       " 'gultyaev',\n",
       " 'gulyansky',\n",
       " 'gunther',\n",
       " 'guo',\n",
       " 'guthrie',\n",
       " 'guzenko',\n",
       " 'guzev',\n",
       " 'guzichenko',\n",
       " 'guzik',\n",
       " 'gã³rka',\n",
       " 'ha',\n",
       " 'habarin',\n",
       " 'habelashvili',\n",
       " 'habibulin',\n",
       " 'habirov',\n",
       " 'habov',\n",
       " 'hadad',\n",
       " 'haddad',\n",
       " 'hagurov',\n",
       " 'haidukov',\n",
       " 'haik',\n",
       " 'hairullov',\n",
       " 'hairutdinov',\n",
       " 'hairyuzov',\n",
       " ...]"
      ]
     },
     "execution_count": 13,
     "metadata": {},
     "output_type": "execute_result"
    }
   ],
   "source": [
    "# get feature names\n",
    "cv.get_feature_names()"
   ]
  },
  {
   "cell_type": "code",
   "execution_count": 14,
   "metadata": {},
   "outputs": [],
   "source": [
    "# split the data to train the model\n",
    "x_train, x_test, y_train, y_test = train_test_split(X, target, test_size=0.35, random_state = 32)"
   ]
  },
  {
   "cell_type": "markdown",
   "metadata": {},
   "source": [
    "---\n",
    "### Model Developement - Entire Model\n",
    "\n",
    "---\n",
    "Multinomial NB - entire model"
   ]
  },
  {
   "cell_type": "code",
   "execution_count": 15,
   "metadata": {},
   "outputs": [
    {
     "data": {
      "text/plain": [
       "MultinomialNB(alpha=1.0, class_prior=None, fit_prior=True)"
      ]
     },
     "execution_count": 15,
     "metadata": {},
     "output_type": "execute_result"
    }
   ],
   "source": [
    "# fit the model\n",
    "surname_model = MultinomialNB()\n",
    "surname_model.fit(x_train, y_train)"
   ]
  },
  {
   "cell_type": "code",
   "execution_count": 16,
   "metadata": {},
   "outputs": [],
   "source": [
    "y_pred = surname_model.predict(x_test)"
   ]
  },
  {
   "cell_type": "markdown",
   "metadata": {},
   "source": [
    "#### -Accuracy-\n",
    "------\n",
    "Note: Accuracy will be computed using sklearn.metrics's ```accuracy_score``` library.\n",
    "\n",
    "\n",
    "------"
   ]
  },
  {
   "cell_type": "code",
   "execution_count": 17,
   "metadata": {},
   "outputs": [
    {
     "name": "stdout",
     "output_type": "stream",
     "text": [
      "Complete model accuracy: 0.5095057034220533\n"
     ]
    }
   ],
   "source": [
    "# Accuracy using test data\n",
    "accuracy = accuracy_score(y_test, y_pred)\n",
    "print(f\"Complete model accuracy: {accuracy}\")"
   ]
  },
  {
   "cell_type": "markdown",
   "metadata": {},
   "source": [
    "__Observation 1__: This accuracy is awful.\n",
    "Possible Reasons: The amount of data used to train the model is too low or it's because there is only a small amount of data."
   ]
  },
  {
   "cell_type": "code",
   "execution_count": 18,
   "metadata": {},
   "outputs": [
    {
     "name": "stdout",
     "output_type": "stream",
     "text": [
      "Russian       507\n",
      "English       183\n",
      "Arabic         96\n",
      "Japanese       56\n",
      "German         42\n",
      "Italian        37\n",
      "Czech          27\n",
      "Dutch          20\n",
      "French         14\n",
      "Polish         12\n",
      "Spanish        11\n",
      "Greek          10\n",
      "Chinese        10\n",
      "Irish          10\n",
      "Scottish        5\n",
      "Portuguese      5\n",
      "Vietnamese      5\n",
      "Korean          2\n",
      "Name: nationality, dtype: int64\n"
     ]
    }
   ],
   "source": [
    "# nationalities in test data\n",
    "print(y_test.value_counts())"
   ]
  },
  {
   "cell_type": "code",
   "execution_count": 19,
   "metadata": {},
   "outputs": [
    {
     "name": "stdout",
     "output_type": "stream",
     "text": [
      "Russian     0.481939\n",
      "English     0.173954\n",
      "Arabic      0.091255\n",
      "Japanese    0.053232\n",
      "German      0.039924\n",
      "Name: nationality, dtype: float64\n"
     ]
    }
   ],
   "source": [
    "# Which nationalities is the model more accurate with\n",
    "null_accuracy = y_test.value_counts().head(5) / len(y_test)\n",
    "print(null_accuracy)"
   ]
  },
  {
   "cell_type": "markdown",
   "metadata": {},
   "source": [
    "__Observation 2__: This model is more accurate with Russian names. This could also leave room for misidentification."
   ]
  },
  {
   "cell_type": "markdown",
   "metadata": {},
   "source": [
    "#### -Precision and Recall-\n",
    "------\n",
    "Note: Precision and Recall will be computed using sklearn.metrics's ```precision_score``` and ```recall_score``` library.\n",
    "\n",
    "\n",
    "------"
   ]
  },
  {
   "cell_type": "code",
   "execution_count": 20,
   "metadata": {},
   "outputs": [
    {
     "name": "stdout",
     "output_type": "stream",
     "text": [
      "Overall\n",
      "Precision: 0.08308895405669599\n",
      "Recall: 0.07233796296296297\n"
     ]
    },
    {
     "name": "stderr",
     "output_type": "stream",
     "text": [
      "/usr/local/anaconda3/lib/python3.7/site-packages/sklearn/metrics/classification.py:1437: UndefinedMetricWarning: Precision is ill-defined and being set to 0.0 in labels with no predicted samples.\n",
      "  'precision', 'predicted', average, warn_for)\n"
     ]
    }
   ],
   "source": [
    "precision = precision_score(y_test, y_pred, average=\"macro\")\n",
    "recall = recall_score(y_test, y_pred, average=\"macro\")\n",
    "\n",
    "print(\"Overall\")\n",
    "print(f\"Precision: {precision}\")\n",
    "print(f\"Recall: {recall}\")"
   ]
  },
  {
   "cell_type": "markdown",
   "metadata": {},
   "source": [
    "#### -Predictions-\n",
    "Now we will run some test predictions."
   ]
  },
  {
   "cell_type": "code",
   "execution_count": 21,
   "metadata": {},
   "outputs": [
    {
     "data": {
      "text/plain": [
       "array(['Russian'], dtype='<U10')"
      ]
     },
     "execution_count": 21,
     "metadata": {},
     "output_type": "execute_result"
    }
   ],
   "source": [
    "# let's try predicting a Japanese name\n",
    "pred_name1 = [\"Showa\"]\n",
    "reshape_feature = cv.transform(pred_name1)\n",
    "surname_model.predict(reshape_feature)"
   ]
  },
  {
   "cell_type": "code",
   "execution_count": 22,
   "metadata": {},
   "outputs": [
    {
     "data": {
      "text/plain": [
       "array(['Arabic'], dtype='<U10')"
      ]
     },
     "execution_count": 22,
     "metadata": {},
     "output_type": "execute_result"
    }
   ],
   "source": [
    "# Arabic surname name\n",
    "pred_name2 = [\"Bata\"]\n",
    "reshape_feature = cv.transform(pred_name2)\n",
    "surname_model.predict(reshape_feature)"
   ]
  },
  {
   "cell_type": "code",
   "execution_count": 23,
   "metadata": {},
   "outputs": [
    {
     "data": {
      "text/plain": [
       "array(['Russian'], dtype='<U10')"
      ]
     },
     "execution_count": 23,
     "metadata": {},
     "output_type": "execute_result"
    }
   ],
   "source": [
    "# Russian surname name\n",
    "pred_name3 = [\"Jugai\"]\n",
    "reshape_feature = cv.transform(pred_name3)\n",
    "surname_model.predict(reshape_feature)"
   ]
  },
  {
   "cell_type": "code",
   "execution_count": 24,
   "metadata": {},
   "outputs": [
    {
     "data": {
      "text/plain": [
       "array(['Russian', 'Russian', 'Russian', 'Arabic'], dtype='<U10')"
      ]
     },
     "execution_count": 24,
     "metadata": {},
     "output_type": "execute_result"
    }
   ],
   "source": [
    "# multiple names (German, English, Japanese, Arabic)\n",
    "pred_names = [\"Samuel\", \"Drew\", \"Shunji\", \"Mustafa\"]\n",
    "reshape_feature = cv.transform(pred_names)\n",
    "surname_model.predict(reshape_feature)"
   ]
  },
  {
   "cell_type": "markdown",
   "metadata": {},
   "source": [
    "__Observation 3__: It thinks every name is Russian. Russian accuracy is almost 50% while the odds of getting other nationalities are less than 16%."
   ]
  },
  {
   "cell_type": "markdown",
   "metadata": {},
   "source": [
    "---\n",
    "### Model Developement - Japanese Surnames Only\n",
    "\n",
    "What if we train the model on only Japanese surnames?\n",
    "\n",
    "---"
   ]
  },
  {
   "cell_type": "markdown",
   "metadata": {},
   "source": [
    "#### -Features Exploration-"
   ]
  },
  {
   "cell_type": "code",
   "execution_count": 43,
   "metadata": {},
   "outputs": [
    {
     "data": {
      "text/html": [
       "<div>\n",
       "<style scoped>\n",
       "    .dataframe tbody tr th:only-of-type {\n",
       "        vertical-align: middle;\n",
       "    }\n",
       "\n",
       "    .dataframe tbody tr th {\n",
       "        vertical-align: top;\n",
       "    }\n",
       "\n",
       "    .dataframe thead th {\n",
       "        text-align: right;\n",
       "    }\n",
       "</style>\n",
       "<table border=\"1\" class=\"dataframe\">\n",
       "  <thead>\n",
       "    <tr style=\"text-align: right;\">\n",
       "      <th></th>\n",
       "      <th>surname</th>\n",
       "      <th>nationality</th>\n",
       "    </tr>\n",
       "  </thead>\n",
       "  <tbody>\n",
       "    <tr>\n",
       "      <td>1330</td>\n",
       "      <td>Takashi</td>\n",
       "      <td>Japanese</td>\n",
       "    </tr>\n",
       "    <tr>\n",
       "      <td>1331</td>\n",
       "      <td>Ishida</td>\n",
       "      <td>Japanese</td>\n",
       "    </tr>\n",
       "    <tr>\n",
       "      <td>1332</td>\n",
       "      <td>Soga</td>\n",
       "      <td>Japanese</td>\n",
       "    </tr>\n",
       "    <tr>\n",
       "      <td>1333</td>\n",
       "      <td>Mitsuharu</td>\n",
       "      <td>Japanese</td>\n",
       "    </tr>\n",
       "    <tr>\n",
       "      <td>1334</td>\n",
       "      <td>Seo</td>\n",
       "      <td>Japanese</td>\n",
       "    </tr>\n",
       "  </tbody>\n",
       "</table>\n",
       "</div>"
      ],
      "text/plain": [
       "        surname nationality\n",
       "1330    Takashi    Japanese\n",
       "1331     Ishida    Japanese\n",
       "1332       Soga    Japanese\n",
       "1333  Mitsuharu    Japanese\n",
       "1334        Seo    Japanese"
      ]
     },
     "execution_count": 43,
     "metadata": {},
     "output_type": "execute_result"
    }
   ],
   "source": [
    "# get japanese names\n",
    "japanese_surnames = surname_df.loc[surname_df[\"nationality\"] == \"Japanese\"]\n",
    "japanese_surnames.head()"
   ]
  },
  {
   "cell_type": "code",
   "execution_count": 26,
   "metadata": {},
   "outputs": [],
   "source": [
    "features = japanese_surnames[\"surname\"] # features (x) needed to predict nationatlity\n",
    "target = japanese_surnames[\"nationality\"] # what we are predicting (y)"
   ]
  },
  {
   "cell_type": "markdown",
   "metadata": {},
   "source": [
    "---\n",
    "### Train/Test Data\n",
    "\n",
    "---\n",
    "To make the data a little more accurate in it's predictions, we are going to split the surnames into train (80%) and test (20%) datasets."
   ]
  },
  {
   "cell_type": "code",
   "execution_count": 27,
   "metadata": {},
   "outputs": [],
   "source": [
    "# vectorize features\n",
    "cv = CountVectorizer()\n",
    "X = cv.fit_transform(features)"
   ]
  },
  {
   "cell_type": "code",
   "execution_count": 28,
   "metadata": {},
   "outputs": [
    {
     "data": {
      "text/plain": [
       "['akimoto',\n",
       " 'aoki',\n",
       " 'araki',\n",
       " 'arita',\n",
       " 'asai',\n",
       " 'asanuma',\n",
       " 'asuhara',\n",
       " 'ayabito',\n",
       " 'daishi',\n",
       " 'dan',\n",
       " 'eda',\n",
       " 'endo',\n",
       " 'erizawa',\n",
       " 'fukuoka',\n",
       " 'fuwa',\n",
       " 'hamada',\n",
       " 'hatayama',\n",
       " 'hattori',\n",
       " 'higo',\n",
       " 'higoshi',\n",
       " 'higuchi',\n",
       " 'hirase',\n",
       " 'hirota',\n",
       " 'honami',\n",
       " 'ichisada',\n",
       " 'iesada',\n",
       " 'igarashi',\n",
       " 'ijiri',\n",
       " 'imoo',\n",
       " 'ishida',\n",
       " 'iwakura',\n",
       " 'joshuya',\n",
       " 'kahaya',\n",
       " 'kajitani',\n",
       " 'kamata',\n",
       " 'kanesaka',\n",
       " 'kawamura',\n",
       " 'kawasie',\n",
       " 'kazuyoshi',\n",
       " 'kido',\n",
       " 'kikugawa',\n",
       " 'kimiyama',\n",
       " 'kinashita',\n",
       " 'kishi',\n",
       " 'kiski',\n",
       " 'komon',\n",
       " 'konoe',\n",
       " 'koshin',\n",
       " 'kotoku',\n",
       " 'kubota',\n",
       " 'kuno',\n",
       " 'kurkawa',\n",
       " 'kurohiko',\n",
       " 'kurosawa',\n",
       " 'kurusu',\n",
       " 'kwakami',\n",
       " 'maeno',\n",
       " 'makioka',\n",
       " 'maruyama',\n",
       " 'masuno',\n",
       " 'matsuzawa',\n",
       " 'mazuka',\n",
       " 'mifune',\n",
       " 'minabuchi',\n",
       " 'mitsuharu',\n",
       " 'mitsuya',\n",
       " 'miyahara',\n",
       " 'miyake',\n",
       " 'miyoshi',\n",
       " 'morioka',\n",
       " 'murasaki',\n",
       " 'mutsu',\n",
       " 'nagata',\n",
       " 'nakadai',\n",
       " 'nakanishi',\n",
       " 'nakanoi',\n",
       " 'nakasato',\n",
       " 'nakasawa',\n",
       " 'nakayama',\n",
       " 'nakazawa',\n",
       " 'namiki',\n",
       " 'nishihara',\n",
       " 'nozara',\n",
       " 'numajiri',\n",
       " 'odaka',\n",
       " 'ohmae',\n",
       " 'ohmiya',\n",
       " 'oichi',\n",
       " 'oishi',\n",
       " 'okabe',\n",
       " 'okimasa',\n",
       " 'okuda',\n",
       " 'okumura',\n",
       " 'onohara',\n",
       " 'osagawa',\n",
       " 'oshin',\n",
       " 'otaka',\n",
       " 'otomo',\n",
       " 'saitoh',\n",
       " 'sakanoue',\n",
       " 'sakurai',\n",
       " 'satake',\n",
       " 'satoya',\n",
       " 'sekozawa',\n",
       " 'seo',\n",
       " 'shigeki',\n",
       " 'shima',\n",
       " 'shimedzu',\n",
       " 'shiokawa',\n",
       " 'shirokawa',\n",
       " 'shunji',\n",
       " 'soga',\n",
       " 'someya',\n",
       " 'soseki',\n",
       " 'sugase',\n",
       " 'sumitimo',\n",
       " 'tabuchi',\n",
       " 'takagaki',\n",
       " 'takagawa',\n",
       " 'takagi',\n",
       " 'takashi',\n",
       " 'takekawa',\n",
       " 'takeshita',\n",
       " 'taketomo',\n",
       " 'takeuchi',\n",
       " 'takewaki',\n",
       " 'tanizaki',\n",
       " 'tanuma',\n",
       " 'tatsuko',\n",
       " 'tono',\n",
       " 'toshitala',\n",
       " 'toyama',\n",
       " 'tsujimura',\n",
       " 'uchida',\n",
       " 'urogataya',\n",
       " 'usami',\n",
       " 'watnabe',\n",
       " 'yamabe',\n",
       " 'yamada',\n",
       " 'yamamura',\n",
       " 'yamana',\n",
       " 'yamanaka',\n",
       " 'yamanoue',\n",
       " 'yamhata',\n",
       " 'yanagawa',\n",
       " 'yasuda',\n",
       " 'yoshioka',\n",
       " 'yuhara']"
      ]
     },
     "execution_count": 28,
     "metadata": {},
     "output_type": "execute_result"
    }
   ],
   "source": [
    "# get feature names\n",
    "cv.get_feature_names()"
   ]
  },
  {
   "cell_type": "code",
   "execution_count": 29,
   "metadata": {},
   "outputs": [],
   "source": [
    "# split the data to train the model\n",
    "x_train, x_test, y_train, y_test = train_test_split(X, target, test_size=0.3, random_state = 32)"
   ]
  },
  {
   "cell_type": "code",
   "execution_count": 30,
   "metadata": {},
   "outputs": [
    {
     "data": {
      "text/plain": [
       "MultinomialNB(alpha=1.0, class_prior=None, fit_prior=True)"
      ]
     },
     "execution_count": 30,
     "metadata": {},
     "output_type": "execute_result"
    }
   ],
   "source": [
    "# fit the model\n",
    "jap_surname_model = MultinomialNB()\n",
    "jap_surname_model.fit(x_train, y_train)"
   ]
  },
  {
   "cell_type": "code",
   "execution_count": 31,
   "metadata": {},
   "outputs": [],
   "source": [
    "y_pred = jap_surname_model.predict(x_test)"
   ]
  },
  {
   "cell_type": "markdown",
   "metadata": {},
   "source": [
    "#### -Accuracy-"
   ]
  },
  {
   "cell_type": "code",
   "execution_count": 32,
   "metadata": {},
   "outputs": [
    {
     "name": "stdout",
     "output_type": "stream",
     "text": [
      "Complete model accuracy: 1.0\n"
     ]
    }
   ],
   "source": [
    "# Accuracy using test data\n",
    "accuracy = accuracy_score(y_test, y_pred)\n",
    "print(f\"Complete model accuracy: {accuracy}\")"
   ]
  },
  {
   "cell_type": "markdown",
   "metadata": {},
   "source": [
    "__Observation 1__: Woah. That accuracy. This is solely because I only tested the model using Japanese names."
   ]
  },
  {
   "cell_type": "code",
   "execution_count": 33,
   "metadata": {},
   "outputs": [
    {
     "name": "stdout",
     "output_type": "stream",
     "text": [
      "Japanese    45\n",
      "Name: nationality, dtype: int64\n"
     ]
    }
   ],
   "source": [
    "# Number of Japanese names in test data\n",
    "print(y_test.value_counts())"
   ]
  },
  {
   "cell_type": "code",
   "execution_count": 34,
   "metadata": {},
   "outputs": [
    {
     "name": "stdout",
     "output_type": "stream",
     "text": [
      "Japanese    103\n",
      "Name: nationality, dtype: int64\n"
     ]
    }
   ],
   "source": [
    "# number of Japanese names in training data\n",
    "print(y_train.value_counts())"
   ]
  },
  {
   "cell_type": "code",
   "execution_count": 35,
   "metadata": {},
   "outputs": [
    {
     "name": "stdout",
     "output_type": "stream",
     "text": [
      "Japanese    1.0\n",
      "Name: nationality, dtype: float64\n"
     ]
    }
   ],
   "source": [
    "# Which nationalities is the model more accurate with\n",
    "null_accuracy = y_test.value_counts().head(5) / len(y_test)\n",
    "print(null_accuracy)"
   ]
  },
  {
   "cell_type": "code",
   "execution_count": 36,
   "metadata": {},
   "outputs": [
    {
     "name": "stdout",
     "output_type": "stream",
     "text": [
      "Japanese Surnames \n",
      "Precision: 1.0\n",
      "Recall: 1.0\n"
     ]
    }
   ],
   "source": [
    "precision = precision_score(y_test, y_pred, average=\"macro\")\n",
    "recall = recall_score(y_test, y_pred, average=\"macro\")\n",
    "\n",
    "print(\"Japanese Surnames \")\n",
    "print(f\"Precision: {precision}\")\n",
    "print(f\"Recall: {recall}\")"
   ]
  },
  {
   "cell_type": "markdown",
   "metadata": {},
   "source": [
    "#### -Predictions-\n",
    "Now we will run some test predictions."
   ]
  },
  {
   "cell_type": "code",
   "execution_count": 37,
   "metadata": {},
   "outputs": [
    {
     "data": {
      "text/plain": [
       "array(['Japanese'], dtype='<U8')"
      ]
     },
     "execution_count": 37,
     "metadata": {},
     "output_type": "execute_result"
    }
   ],
   "source": [
    "# let's try predicting a Japanese name\n",
    "pred_name1 = [\"Showa\"]\n",
    "reshape_feature = cv.transform(pred_name1)\n",
    "jap_surname_model.predict(reshape_feature)"
   ]
  },
  {
   "cell_type": "code",
   "execution_count": 38,
   "metadata": {},
   "outputs": [
    {
     "data": {
      "text/plain": [
       "array(['Japanese'], dtype='<U8')"
      ]
     },
     "execution_count": 38,
     "metadata": {},
     "output_type": "execute_result"
    }
   ],
   "source": [
    "# Arabic surname name\n",
    "pred_name2 = [\"Bata\"]\n",
    "reshape_feature = cv.transform(pred_name2)\n",
    "jap_surname_model.predict(reshape_feature)"
   ]
  },
  {
   "cell_type": "code",
   "execution_count": 39,
   "metadata": {},
   "outputs": [
    {
     "data": {
      "text/plain": [
       "array(['Japanese'], dtype='<U8')"
      ]
     },
     "execution_count": 39,
     "metadata": {},
     "output_type": "execute_result"
    }
   ],
   "source": [
    "# Russian surname name\n",
    "pred_name3 = [\"Jugai\"]\n",
    "reshape_feature = cv.transform(pred_name3)\n",
    "jap_surname_model.predict(reshape_feature)"
   ]
  },
  {
   "cell_type": "code",
   "execution_count": 40,
   "metadata": {},
   "outputs": [
    {
     "data": {
      "text/plain": [
       "array(['Japanese', 'Japanese', 'Japanese', 'Japanese'], dtype='<U8')"
      ]
     },
     "execution_count": 40,
     "metadata": {},
     "output_type": "execute_result"
    }
   ],
   "source": [
    "# multiple names (German, English, Japanese, Arabic)\n",
    "pred_names = [\"Samuel\", \"Drew\", \"Shunji\", \"Mustafa\"]\n",
    "reshape_feature = cv.transform(pred_names)\n",
    "jap_surname_model.predict(reshape_feature)"
   ]
  },
  {
   "cell_type": "markdown",
   "metadata": {},
   "source": [
    "__Observation 2__: The model assumes that all names are Japanese. This is because it has been trained on no other type of name. It is all it knows."
   ]
  }
 ],
 "metadata": {
  "kernelspec": {
   "display_name": "Python 3",
   "language": "python",
   "name": "python3"
  },
  "language_info": {
   "codemirror_mode": {
    "name": "ipython",
    "version": 3
   },
   "file_extension": ".py",
   "mimetype": "text/x-python",
   "name": "python",
   "nbconvert_exporter": "python",
   "pygments_lexer": "ipython3",
   "version": "3.7.4"
  }
 },
 "nbformat": 4,
 "nbformat_minor": 4
}
