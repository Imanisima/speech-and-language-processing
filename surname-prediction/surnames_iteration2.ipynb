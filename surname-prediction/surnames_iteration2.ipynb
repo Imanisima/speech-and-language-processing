{
 "cells": [
  {
   "cell_type": "markdown",
   "metadata": {},
   "source": [
    "## Introduction to Prediction using Surnames Analysis"
   ]
  },
  {
   "cell_type": "markdown",
   "metadata": {},
   "source": [
    "### Hypothesis\n",
    "To relate a name to nationality, check for the most common letter combinations/pronounciations within a specific language that makes it unique.\n",
    "\n",
    "Note: This is a naïve approach. We will continue to improve!\n",
    "\n",
    "In this iteration we are going to:\n",
    "* calculate the accuracy, precision, and recall of the first iteration of Japanese names.\n",
    "* improve precision\n",
    "* compare accuracy, recall, and precision for classifying Japanese names.\n",
    "\n",
    "------\n"
   ]
  },
  {
   "cell_type": "code",
   "execution_count": 1,
   "metadata": {},
   "outputs": [],
   "source": [
    "import pandas as pd"
   ]
  },
  {
   "cell_type": "code",
   "execution_count": 2,
   "metadata": {},
   "outputs": [],
   "source": [
    "def is_arabic(word):\n",
    "    if \"afa\" in word:\n",
    "        return True\n",
    "    elif \"ba\" in word:\n",
    "        return True\n",
    "    elif \"zay\" in word:\n",
    "        return True\n",
    "    elif \"shin\" in word:\n",
    "        return True\n",
    "    elif \"ra\" in word:\n",
    "        return True\n",
    "    elif \"sud\" in word:\n",
    "        return True\n",
    "    elif \"alif\" in word:\n",
    "        return True\n",
    "    elif \"aa\" in word:\n",
    "        return True\n",
    "    elif \"aha\" in word:\n",
    "        return True\n",
    "    elif \"dh\" in word:\n",
    "        return True\n",
    "    elif \"tha\" in word:\n",
    "        return True\n",
    "    elif \"slah\" in word:\n",
    "        return True\n",
    "    elif \"att\" in word:\n",
    "        return True\n",
    "    elif \"kh\" in word:\n",
    "        return True\n",
    "    elif \"zog\" in word:\n",
    "        return True\n",
    "    elif \"tar\" in word:\n",
    "        return True\n",
    "    elif \"eeb\" in word:\n",
    "        return True\n",
    "    elif \"alb\" in word:\n",
    "        return True\n",
    "    elif \"haj\" in word:\n",
    "        return True\n",
    "    else:\n",
    "        return False"
   ]
  },
  {
   "cell_type": "code",
   "execution_count": 3,
   "metadata": {},
   "outputs": [],
   "source": [
    "def is_chinese(word):\n",
    "    if len(word) < 4:\n",
    "        return True\n",
    "    elif \"ang\" in word:\n",
    "        return True\n",
    "    elif \"iang\" in word:\n",
    "        return True\n",
    "    elif \"ing\" in word:\n",
    "        return True\n",
    "    elif \"eng\" in word:\n",
    "        return True\n",
    "    elif \"sen\" in word:\n",
    "        return True\n",
    "    elif \"ong\" in word:\n",
    "        return True\n",
    "    elif \"hao\" in word:\n",
    "        return True\n",
    "    elif \"aw\" in word:\n",
    "        return True\n",
    "    elif \"eah\" in word:\n",
    "        return True\n",
    "    else:\n",
    "        return False"
   ]
  },
  {
   "cell_type": "code",
   "execution_count": 4,
   "metadata": {},
   "outputs": [],
   "source": [
    "def is_czech(word):\n",
    "    if \"mak\" in word:\n",
    "        return True\n",
    "    elif \"tak\" in word:\n",
    "        return True\n",
    "    elif \"erv\" in word:\n",
    "        return True\n",
    "    elif \"fk\" in word:\n",
    "        return True\n",
    "    elif \"som\" in word:\n",
    "        return True\n",
    "    elif \"iova\" in word:\n",
    "        return True\n",
    "    elif \"perer\" in word:\n",
    "        return True\n",
    "    elif \"nek\" in word:\n",
    "        return True\n",
    "    elif \"esi\" in word:\n",
    "        return True\n",
    "    elif \"ovic\" in word:\n",
    "        return True\n",
    "    elif \"nec\" in word:\n",
    "        return True\n",
    "    elif \"zka\" in word:\n",
    "        return True\n",
    "    elif \"abb\" in word:\n",
    "        return True\n",
    "    elif \"enk\" in word:\n",
    "        return True\n",
    "    elif \"chek\" in word:\n",
    "        return True\n",
    "    elif \"ss\" in word:\n",
    "        return True\n",
    "    elif \"erka\" in word:\n",
    "        return True\n",
    "    elif \"kovsky\" in word:\n",
    "        return True\n",
    "    elif \"gl\" in word:\n",
    "        return True\n",
    "    elif \"ovy\" in word:\n",
    "        return True\n",
    "    elif \"pp\" in word:\n",
    "        return True\n",
    "    elif \"jj\" in word:\n",
    "        return True\n",
    "    elif \"lik\" in word:\n",
    "        return True\n",
    "    elif \"sk\" in word:\n",
    "        return True"
   ]
  },
  {
   "cell_type": "code",
   "execution_count": 5,
   "metadata": {},
   "outputs": [],
   "source": [
    "def is_dutch(word):\n",
    "    if \"eter\" in word:\n",
    "        return True\n",
    "    elif \"aijer\" in word:\n",
    "        return True\n",
    "    elif \"oorn\" in word:\n",
    "        return True\n",
    "    elif \"hren\" in word:\n",
    "        return True\n",
    "    elif \"rik\" in word:\n",
    "        return True\n",
    "    elif \"ogt\" in word:\n",
    "        return True\n",
    "    elif \"eeu\" in word:\n",
    "        return True\n",
    "    elif \"man\" in word:\n",
    "        return True\n",
    "    elif \"aar\" in word:\n",
    "        return True\n",
    "    elif \"ijk\" in word:\n",
    "        return True\n",
    "    elif \"eghe\" in word:\n",
    "        return True\n",
    "    elif \"del\" in word:\n",
    "        return True\n",
    "    elif \"kk\" in word:\n",
    "        return True\n",
    "    elif \"seg\" in word:\n",
    "        return True\n",
    "    elif \"ning\" in word:\n",
    "        return True\n",
    "    elif \"sch\" in word:\n",
    "        return True\n",
    "    elif \"ken\" in word:\n",
    "        return True\n",
    "    return False"
   ]
  },
  {
   "cell_type": "code",
   "execution_count": 6,
   "metadata": {},
   "outputs": [],
   "source": [
    "def is_german(word):\n",
    "    word = word.lower()\n",
    "    keys = \"äöü\"\n",
    "    for letter in word:\n",
    "        if letter in keys:\n",
    "            return True\n",
    "        \n",
    "    if \"isch\" in word:\n",
    "        return True\n",
    "    if \"tsch\" in word:\n",
    "        return True\n",
    "    if \"aus\" in word:\n",
    "        return True\n",
    "    return False"
   ]
  },
  {
   "cell_type": "code",
   "execution_count": 7,
   "metadata": {},
   "outputs": [],
   "source": [
    "def is_italian(word):\n",
    "    \"\"\"Naive Italian Surname Identification\"\"\"\n",
    "    return word.count(\"i\") >= 3    "
   ]
  },
  {
   "cell_type": "code",
   "execution_count": 8,
   "metadata": {},
   "outputs": [],
   "source": [
    "def is_japanese(word):\n",
    "    \"\"\"Naive Japanese Surname Identification\"\"\"\n",
    "    if \"naka\" in word:\n",
    "        return True\n",
    "    elif \"tsu\" in word:\n",
    "        return True\n",
    "    elif \"kawa\" in word:\n",
    "        return True\n",
    "    else:\n",
    "        return False"
   ]
  },
  {
   "cell_type": "code",
   "execution_count": 9,
   "metadata": {},
   "outputs": [],
   "source": [
    "def is_spanish(word):\n",
    "    \"\"\"Naive Spanish Surname Identification\"\"\"\n",
    "    word = word.lower()\n",
    "    keys = \"áéíóúüñ\"\n",
    "    for letter in word:\n",
    "        if letter in keys:\n",
    "            return True\n",
    "    return False"
   ]
  },
  {
   "cell_type": "code",
   "execution_count": 10,
   "metadata": {},
   "outputs": [],
   "source": [
    "\"\"\"\n",
    "    Naive Nationality Identification\n",
    "\n",
    "    Returns \"Unknown\" for nationalities that are detected as \n",
    "    other than Spanish, Italian or Japanese\n",
    "\"\"\"\n",
    "\n",
    "def check_nationality(surname):\n",
    "    \n",
    "    if is_arabic(surname):\n",
    "        return \"Arabic\"\n",
    "    \n",
    "    if is_chinese(surname):\n",
    "        return \"Chinese\"\n",
    "    \n",
    "    if is_czech(surname):\n",
    "        return \"Czech\"\n",
    "    \n",
    "    if is_dutch(surname):\n",
    "        return \"Dutch\"\n",
    "    \n",
    "    if is_german(surname):\n",
    "        return \"German\"\n",
    "    \n",
    "    if is_italian(surname):\n",
    "        return \"Italian\"\n",
    "    \n",
    "    if is_japanese(surname):\n",
    "        return \"Japanese\"\n",
    "    \n",
    "    if is_spanish(surname):\n",
    "        return \"Spanish\"\n",
    "    \n",
    "    return \"Unknown\""
   ]
  },
  {
   "cell_type": "code",
   "execution_count": 11,
   "metadata": {},
   "outputs": [],
   "source": [
    "# read the csv file into data frame.\n",
    "def read_file(file_name):\n",
    "    df = pd.read_csv(file_name, index_col = None)\n",
    "    df.rename(columns = {'Unnamed: 0':'surname', 'Unnamed: 1':'nationality'}, inplace = True)\n",
    "    print(\"Preview of original file:\")\n",
    "    print(df.head())\n",
    "    \n",
    "    return df"
   ]
  },
  {
   "cell_type": "code",
   "execution_count": 12,
   "metadata": {},
   "outputs": [],
   "source": [
    "# read first column only\n",
    "def modify_file(df):\n",
    "    surname_list = pd.DataFrame(df[df.columns[0]])\n",
    "    surname_list.rename(columns = {'Unnamed: 0':'surname'}, inplace = True)\n",
    "    \n",
    "    return surname_list"
   ]
  },
  {
   "cell_type": "code",
   "execution_count": 13,
   "metadata": {},
   "outputs": [],
   "source": [
    "# retrieve nationality for each name.\n",
    "def insert_nationality_pred(surname_list):\n",
    "    nationality = []\n",
    "    col = \"surname\"\n",
    "    for name, row in surname_list.iterrows():\n",
    "        nationality.append(check_nationality(row[col]))\n",
    "\n",
    "    surname_list.insert(1, \"nationality\", nationality, True)\n",
    "    \n",
    "    return surname_list"
   ]
  },
  {
   "cell_type": "code",
   "execution_count": 14,
   "metadata": {},
   "outputs": [
    {
     "name": "stdout",
     "output_type": "stream",
     "text": [
      "Preview of original file:\n",
      "    surname nationality\n",
      "0  Fakhoury      Arabic\n",
      "1      Toma      Arabic\n",
      "2     Koury      Arabic\n",
      "3      Bata      Arabic\n",
      "4    Samaha      Arabic\n"
     ]
    }
   ],
   "source": [
    "# files to be predicted\n",
    "surname_csv = \"data_set/surnames-dev.csv\"\n",
    "\n",
    "surname_df = read_file(surname_csv)\n",
    "surname_list = modify_file(surname_df)\n",
    "pred_surnames = insert_nationality_pred(surname_list)"
   ]
  },
  {
   "cell_type": "code",
   "execution_count": 15,
   "metadata": {},
   "outputs": [
    {
     "name": "stdout",
     "output_type": "stream",
     "text": [
      "Preview of original file:\n",
      "      surname nationality\n",
      "0       Belén     Spanish\n",
      "1  Cunningham    Scottish\n",
      "2          Ji      Korean\n",
      "3  Grönemeyer      German\n",
      "4        Lévy      French\n"
     ]
    }
   ],
   "source": [
    "musician_csv = \"data_set/musician_surnames.csv\"\n",
    "musician_df = read_file(musician_csv)\n",
    "surname_list = modify_file(musician_df)\n",
    "pred_mus_surnames = insert_nationality_pred(surname_list)"
   ]
  },
  {
   "cell_type": "code",
   "execution_count": 16,
   "metadata": {},
   "outputs": [],
   "source": [
    "# ouput results\n",
    "pred_surnames.to_csv(\"results/surname_results.csv\", index=False)\n",
    "pred_mus_surnames.to_csv(\"results/musician_results.csv\", index=False)"
   ]
  },
  {
   "cell_type": "markdown",
   "metadata": {},
   "source": [
    "## Results\n",
    "### Accuracy, Precision, and Recall of Iteration I\n"
   ]
  },
  {
   "cell_type": "code",
   "execution_count": 32,
   "metadata": {},
   "outputs": [],
   "source": [
    "from sklearn.metrics import accuracy_score\n",
    "import numpy as np"
   ]
  },
  {
   "cell_type": "code",
   "execution_count": 18,
   "metadata": {},
   "outputs": [
    {
     "name": "stdout",
     "output_type": "stream",
     "text": [
      "Index(['surname', 'nationality'], dtype='object')\n",
      "Index(['surname', 'nationality'], dtype='object')\n"
     ]
    }
   ],
   "source": [
    "print(pred_surnames.columns) # predicted surnames\n",
    "print(surname_df.columns) # ground truth surnames"
   ]
  },
  {
   "cell_type": "markdown",
   "metadata": {},
   "source": [
    "#### Accuracy\n",
    "------\n",
    "Note: Accuracy will be computed using sklearn.metrics's ```accuracy_score``` library. We will find an intersection between the ground truth (original surnames) and predicted surnames, and then get the average accuracy for the two columns.\n",
    "\n",
    "\n",
    "------"
   ]
  },
  {
   "cell_type": "code",
   "execution_count": 36,
   "metadata": {},
   "outputs": [
    {
     "name": "stdout",
     "output_type": "stream",
     "text": [
      "Column: surname \t Accuracy: 1.0\n",
      "Column: nationality \t Accuracy: 0.05427905427905428\n",
      "B1 Surname Predictions Accuracy: 0.5271395271395272 \n",
      "\n"
     ]
    }
   ],
   "source": [
    "# find an intersection between the two datasets and compute the accuracy score.\n",
    "ground_truth = surname_df\n",
    "col_overlap = list(set(ground_truth.columns).intersection(pred_surnames.columns))\n",
    "\n",
    "# compute accuracy\n",
    "avg_accuracy = 0.0\n",
    "for col in col_overlap:\n",
    "    accuracy = accuracy_score(ground_truth[col], pred_surnames[col])\n",
    "    print(f\"Column: {col} \\t Accuracy: {accuracy}\")\n",
    "    avg_accuracy += accuracy / len(col_overlap)\n",
    "    \n",
    "print(f\"B1 Surname Predictions Accuracy: {avg_accuracy} \\n\")"
   ]
  },
  {
   "cell_type": "markdown",
   "metadata": {},
   "source": [
    "#### Precision and Recall\n",
    "------\n",
    "Note: Precision and Recall will be computed using sklearn.metrics's ```precision_score``` and ```recall_score``` library.\n",
    "\n",
    "\n",
    "------"
   ]
  },
  {
   "cell_type": "code",
   "execution_count": 37,
   "metadata": {},
   "outputs": [],
   "source": [
    "from sklearn.metrics import precision_score, recall_score"
   ]
  },
  {
   "cell_type": "code",
   "execution_count": 38,
   "metadata": {},
   "outputs": [],
   "source": [
    "precision = 0.0\n",
    "recall = 0.0\n",
    "\n",
    "y_gt = ground_truth[\"nationality\"] # ground truth for nationality\n",
    "y_pred = pred_surnames[\"nationality\"] # predictions for nationality"
   ]
  },
  {
   "cell_type": "code",
   "execution_count": 39,
   "metadata": {},
   "outputs": [
    {
     "name": "stdout",
     "output_type": "stream",
     "text": [
      "Precision: 0.07993759550310502\n",
      "Recall: 0.10168449378975694\n"
     ]
    }
   ],
   "source": [
    "precision = precision_score(y_gt, y_pred, average=\"macro\")\n",
    "recall = recall_score(y_gt, y_pred, average=\"macro\")\n",
    "\n",
    "print(f\"Precision: {precision}\")\n",
    "print(f\"Recall: {recall}\")"
   ]
  }
 ],
 "metadata": {
  "kernelspec": {
   "display_name": "Python 3",
   "language": "python",
   "name": "python3"
  },
  "language_info": {
   "codemirror_mode": {
    "name": "ipython",
    "version": 3
   },
   "file_extension": ".py",
   "mimetype": "text/x-python",
   "name": "python",
   "nbconvert_exporter": "python",
   "pygments_lexer": "ipython3",
   "version": "3.7.4"
  }
 },
 "nbformat": 4,
 "nbformat_minor": 4
}
